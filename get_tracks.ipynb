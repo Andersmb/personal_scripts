{
 "cells": [
  {
   "cell_type": "code",
   "execution_count": 9,
   "metadata": {},
   "outputs": [],
   "source": [
    "import spotipy\n",
    "import spotipy.util\n",
    "from spotipy.oauth2 import SpotifyClientCredentials\n",
    "import os, sys\n",
    "from pprint import pprint\n",
    "from spotify_functions import get_track_features, add_track_to_playlist\n",
    "import yaml\n",
    "import json\n",
    "import itertools"
   ]
  },
  {
   "cell_type": "code",
   "execution_count": 10,
   "metadata": {},
   "outputs": [],
   "source": [
    "# Log in\n",
    "client_id = \"eb61abc5e043451ead922883d9ffe41a\"\n",
    "client_secret = \"8e1e6cd54c0948a98702cb977b51e802\"\n",
    "redirect_uri = \"http://google.com/\"\n",
    "username = \"andersmb\"\n",
    "scope = [\"user-library-read\",\n",
    "         \"playlist-read-private\", \n",
    "         \"playlist-modify-public\",\n",
    "         \"playlist-modify-private\"]\n",
    "\n",
    "scope = \" \".join(scope)\n",
    "client_credentials_manager = SpotifyClientCredentials(client_id=client_id, client_secret=client_secret)\n",
    "sp = spotipy.Spotify(client_credentials_manager=client_credentials_manager)\n",
    "token = spotipy.util.prompt_for_user_token(username, scope, client_id=client_id, client_secret=client_secret, redirect_uri=redirect_uri)\n",
    "sp = spotipy.Spotify(auth=token) \n",
    "\n"
   ]
  },
  {
   "cell_type": "code",
   "execution_count": 3,
   "metadata": {},
   "outputs": [],
   "source": [
    "# Get the search keywords\n",
    "keywords = [\"workout\",\n",
    "            \"running\", \n",
    "            \"interval training\", \n",
    "            \"jogging\", \n",
    "            \"crossfit\", \n",
    "            \"satselixia\", \n",
    "            \"spinning\",\n",
    "            \"high intensity interval training\",\n",
    "            \"interval training\",\n",
    "            \"hiit\",\n",
    "            \"trance\",\n",
    "            \"90s\",\n",
    "            \"90s music\",\n",
    "            \"90s hits\",\n",
    "            \"2000 hits\",\n",
    "            \"2000s\",\n",
    "            \"gym music\",\n",
    "            \"party music\",\n",
    "            \"party playlist\",\n",
    "            \"epic party\",\n",
    "            \"top hits\",\n",
    "            \"one hit wonders\",\n",
    "            \"epic rock riffs\",\n",
    "            \"top guitar riffs\",\n",
    "            \"metal\",\n",
    "            \"hard metal\",\n",
    "            \"classic metal\",\n",
    "            \"heavy metal\",\n",
    "            \"training\",\n",
    "            \"training motivation\",\n",
    "            \"workout motivation\",\n",
    "            \"fittness 24 seveven\",\n",
    "            \"fitness24seven\",\n",
    "            \"new hits\",\n",
    "            \"top hits\",\n",
    "            \"2018 hits\",\n",
    "            \"2017 hits\",\n",
    "            \"2016 hits\",\n",
    "            \"2015 hits\",\n",
    "            \"2014 hits\",\n",
    "            \"2013 hits\",\n",
    "            \"top pop hits\"]"
   ]
  },
  {
   "cell_type": "code",
   "execution_count": 14,
   "metadata": {},
   "outputs": [
    {
     "name": "stdout",
     "output_type": "stream",
     "text": [
      "Searching playlists 42/42\r"
     ]
    }
   ],
   "source": [
    "candidates = {}\n",
    "temporange1 = list(range(145, 155))\n",
    "temporange2 = list(range(min(temporange1)/2, max(temporange1)/2))\n",
    "playlist_search_limit = 3\n",
    "\n",
    "for i, key in list(enumerate(keywords)):\n",
    "    sys.stdout.write(\"Searching playlists {}/{}\\r\".format(i+1, len(keywords)))\n",
    "    sys.stdout.flush()\n",
    "    \n",
    "    query = sp.search(q=key, limit=playlist_search_limit, type=\"playlist\")\n",
    "    for plist in query[\"playlists\"][\"items\"]:\n",
    "        plist_id = plist[\"id\"]\n",
    "        owner_id = plist[\"owner\"][\"id\"]\n",
    "        data = sp.user_playlist(owner_id, plist_id)\n",
    "        for track in data[\"tracks\"][\"items\"]:\n",
    "            tid = str(track[\"track\"][\"id\"])\n",
    "            try:\n",
    "                tempo = get_track_features(token=token, track_id=tid)[\"tempo\"]\n",
    "            except:\n",
    "                continue\n",
    "            if int(tempo) in temporange1 or int(tempo) in temporange2:\n",
    "                candidates[tid] = get_track_features(token=token, track_id=tid)\n",
    "                candidates[tid][\"preview_url\"] = track[\"track\"][\"preview_url\"]\n",
    "                candidates[tid][\"artist\"] = track[\"track\"][\"artists\"][0][\"name\"]\n",
    "                candidates[tid][\"name\"] = track[\"track\"][\"name\"]\n",
    "                \n",
    "with open(\"candidates_anders.json\", \"w\") as f:\n",
    "    json.dump(candidates, f, indent=4)"
   ]
  },
  {
   "cell_type": "code",
   "execution_count": 12,
   "metadata": {},
   "outputs": [],
   "source": [
    "# Post to the playlist\n",
    "# Perhaps filter based on energy?\n",
    "with open(\"candidates_eirik.json\") as f:\n",
    "    data = json.load(f)\n",
    "    \n",
    "plid_anders = \"7tQtcCKxoXCIp8gHZEzK0F\"\n",
    "plid_eirik = \"0ggUeDXX7r9Wbpqwksk4fw\"\n",
    "for track in data.keys():\n",
    "    sp.user_playlist_add_tracks(username, plid_eirik, [track])"
   ]
  },
  {
   "cell_type": "code",
   "execution_count": null,
   "metadata": {},
   "outputs": [],
   "source": []
  }
 ],
 "metadata": {
  "kernelspec": {
   "display_name": "Python 2",
   "language": "python",
   "name": "python2"
  },
  "language_info": {
   "codemirror_mode": {
    "name": "ipython",
    "version": 2
   },
   "file_extension": ".py",
   "mimetype": "text/x-python",
   "name": "python",
   "nbconvert_exporter": "python",
   "pygments_lexer": "ipython2",
   "version": "2.7.15"
  }
 },
 "nbformat": 4,
 "nbformat_minor": 2
}
